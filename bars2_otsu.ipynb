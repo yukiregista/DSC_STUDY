{
 "cells": [
  {
   "cell_type": "code",
   "execution_count": 3,
   "metadata": {},
   "outputs": [],
   "source": [
    "import pandas as pd\n",
    "import numpy as np\n",
    "import matplotlib.pyplot as plt\n",
    "from information_driven_bars import *\n",
    "from datetime import datetime\n",
    "\n",
    "# Daskを使うことでPandas互換で読み込める\n",
    "import dask.dataframe as dd"
   ]
  },
  {
   "cell_type": "code",
   "execution_count": 4,
   "metadata": {},
   "outputs": [],
   "source": [
    "# Pandas互換\n",
    "df = dd.read_csv(\"INDICES200601-20081231-N105804263-part001.csv\")"
   ]
  },
  {
   "cell_type": "code",
   "execution_count": 5,
   "metadata": {},
   "outputs": [
    {
     "data": {
      "text/plain": [
       "(<dask_expr.expr.Scalar: expr=ReadCSV(e54bf13).size() / 24, dtype=float64>, 24)"
      ]
     },
     "execution_count": 5,
     "metadata": {},
     "output_type": "execute_result"
    }
   ],
   "source": [
    "df.shape"
   ]
  },
  {
   "cell_type": "code",
   "execution_count": 6,
   "metadata": {},
   "outputs": [
    {
     "data": {
      "text/html": [
       "<div>\n",
       "<style scoped>\n",
       "    .dataframe tbody tr th:only-of-type {\n",
       "        vertical-align: middle;\n",
       "    }\n",
       "\n",
       "    .dataframe tbody tr th {\n",
       "        vertical-align: top;\n",
       "    }\n",
       "\n",
       "    .dataframe thead th {\n",
       "        text-align: right;\n",
       "    }\n",
       "</style>\n",
       "<table border=\"1\" class=\"dataframe\">\n",
       "  <thead>\n",
       "    <tr style=\"text-align: right;\">\n",
       "      <th></th>\n",
       "      <th>#RIC</th>\n",
       "      <th>Current RIC</th>\n",
       "      <th>Date[L]</th>\n",
       "      <th>Time[L]</th>\n",
       "      <th>Type</th>\n",
       "      <th>Ex/Cntrb.ID</th>\n",
       "      <th>Price</th>\n",
       "      <th>Volume</th>\n",
       "      <th>Market VWAP</th>\n",
       "      <th>Bid Price</th>\n",
       "      <th>...</th>\n",
       "      <th>Exch Time</th>\n",
       "      <th>New Price</th>\n",
       "      <th>New Vol</th>\n",
       "      <th>Trd/Qte Date</th>\n",
       "      <th>30 Day ATM IV Call</th>\n",
       "      <th>60 Day ATM IV Call</th>\n",
       "      <th>90 Day ATM IV Call</th>\n",
       "      <th>30 Day ATM IV Put</th>\n",
       "      <th>60 Day ATM IV Put</th>\n",
       "      <th>90 Day ATM IV Put</th>\n",
       "    </tr>\n",
       "  </thead>\n",
       "  <tbody>\n",
       "    <tr>\n",
       "      <th>0</th>\n",
       "      <td>.HSI</td>\n",
       "      <td>NaN</td>\n",
       "      <td>03-JAN-2006</td>\n",
       "      <td>06:23:07.698117</td>\n",
       "      <td>Mkt. Condition</td>\n",
       "      <td>NaN</td>\n",
       "      <td>NaN</td>\n",
       "      <td>NaN</td>\n",
       "      <td>NaN</td>\n",
       "      <td>NaN</td>\n",
       "      <td>...</td>\n",
       "      <td>NaN</td>\n",
       "      <td>NaN</td>\n",
       "      <td>NaN</td>\n",
       "      <td>NaN</td>\n",
       "      <td>NaN</td>\n",
       "      <td>NaN</td>\n",
       "      <td>NaN</td>\n",
       "      <td>NaN</td>\n",
       "      <td>NaN</td>\n",
       "      <td>NaN</td>\n",
       "    </tr>\n",
       "    <tr>\n",
       "      <th>1</th>\n",
       "      <td>.HSI</td>\n",
       "      <td>NaN</td>\n",
       "      <td>03-JAN-2006</td>\n",
       "      <td>06:23:07.698117</td>\n",
       "      <td>Correction</td>\n",
       "      <td>NaN</td>\n",
       "      <td>0.00</td>\n",
       "      <td>NaN</td>\n",
       "      <td>NaN</td>\n",
       "      <td>NaN</td>\n",
       "      <td>...</td>\n",
       "      <td>NaN</td>\n",
       "      <td>NaN</td>\n",
       "      <td>NaN</td>\n",
       "      <td>NaN</td>\n",
       "      <td>NaN</td>\n",
       "      <td>NaN</td>\n",
       "      <td>NaN</td>\n",
       "      <td>NaN</td>\n",
       "      <td>NaN</td>\n",
       "      <td>NaN</td>\n",
       "    </tr>\n",
       "    <tr>\n",
       "      <th>2</th>\n",
       "      <td>.HSI</td>\n",
       "      <td>NaN</td>\n",
       "      <td>03-JAN-2006</td>\n",
       "      <td>10:00:17.037121</td>\n",
       "      <td>Index</td>\n",
       "      <td>NaN</td>\n",
       "      <td>14843.97</td>\n",
       "      <td>0.0</td>\n",
       "      <td>NaN</td>\n",
       "      <td>NaN</td>\n",
       "      <td>...</td>\n",
       "      <td>NaN</td>\n",
       "      <td>NaN</td>\n",
       "      <td>NaN</td>\n",
       "      <td>NaN</td>\n",
       "      <td>NaN</td>\n",
       "      <td>NaN</td>\n",
       "      <td>NaN</td>\n",
       "      <td>NaN</td>\n",
       "      <td>NaN</td>\n",
       "      <td>NaN</td>\n",
       "    </tr>\n",
       "    <tr>\n",
       "      <th>3</th>\n",
       "      <td>.HSI</td>\n",
       "      <td>NaN</td>\n",
       "      <td>03-JAN-2006</td>\n",
       "      <td>10:00:17.339836</td>\n",
       "      <td>Index</td>\n",
       "      <td>NaN</td>\n",
       "      <td>14843.97</td>\n",
       "      <td>19649233.0</td>\n",
       "      <td>NaN</td>\n",
       "      <td>NaN</td>\n",
       "      <td>...</td>\n",
       "      <td>NaN</td>\n",
       "      <td>NaN</td>\n",
       "      <td>NaN</td>\n",
       "      <td>NaN</td>\n",
       "      <td>NaN</td>\n",
       "      <td>NaN</td>\n",
       "      <td>NaN</td>\n",
       "      <td>NaN</td>\n",
       "      <td>NaN</td>\n",
       "      <td>NaN</td>\n",
       "    </tr>\n",
       "    <tr>\n",
       "      <th>4</th>\n",
       "      <td>.HSI</td>\n",
       "      <td>NaN</td>\n",
       "      <td>03-JAN-2006</td>\n",
       "      <td>10:00:31.900701</td>\n",
       "      <td>Index</td>\n",
       "      <td>NaN</td>\n",
       "      <td>14850.92</td>\n",
       "      <td>19649233.0</td>\n",
       "      <td>NaN</td>\n",
       "      <td>NaN</td>\n",
       "      <td>...</td>\n",
       "      <td>NaN</td>\n",
       "      <td>NaN</td>\n",
       "      <td>NaN</td>\n",
       "      <td>NaN</td>\n",
       "      <td>NaN</td>\n",
       "      <td>NaN</td>\n",
       "      <td>NaN</td>\n",
       "      <td>NaN</td>\n",
       "      <td>NaN</td>\n",
       "      <td>NaN</td>\n",
       "    </tr>\n",
       "  </tbody>\n",
       "</table>\n",
       "<p>5 rows × 24 columns</p>\n",
       "</div>"
      ],
      "text/plain": [
       "   #RIC  Current RIC      Date[L]          Time[L]            Type  \\\n",
       "0  .HSI          NaN  03-JAN-2006  06:23:07.698117  Mkt. Condition   \n",
       "1  .HSI          NaN  03-JAN-2006  06:23:07.698117      Correction   \n",
       "2  .HSI          NaN  03-JAN-2006  10:00:17.037121           Index   \n",
       "3  .HSI          NaN  03-JAN-2006  10:00:17.339836           Index   \n",
       "4  .HSI          NaN  03-JAN-2006  10:00:31.900701           Index   \n",
       "\n",
       "   Ex/Cntrb.ID     Price      Volume  Market VWAP  Bid Price  ...  Exch Time  \\\n",
       "0          NaN       NaN         NaN          NaN        NaN  ...        NaN   \n",
       "1          NaN      0.00         NaN          NaN        NaN  ...        NaN   \n",
       "2          NaN  14843.97         0.0          NaN        NaN  ...        NaN   \n",
       "3          NaN  14843.97  19649233.0          NaN        NaN  ...        NaN   \n",
       "4          NaN  14850.92  19649233.0          NaN        NaN  ...        NaN   \n",
       "\n",
       "   New Price  New Vol Trd/Qte Date  30 Day ATM IV Call  60 Day ATM IV Call  \\\n",
       "0        NaN      NaN          NaN                 NaN                 NaN   \n",
       "1        NaN      NaN          NaN                 NaN                 NaN   \n",
       "2        NaN      NaN          NaN                 NaN                 NaN   \n",
       "3        NaN      NaN          NaN                 NaN                 NaN   \n",
       "4        NaN      NaN          NaN                 NaN                 NaN   \n",
       "\n",
       "   90 Day ATM IV Call  30 Day ATM IV Put  60 Day ATM IV Put  90 Day ATM IV Put  \n",
       "0                 NaN                NaN                NaN                NaN  \n",
       "1                 NaN                NaN                NaN                NaN  \n",
       "2                 NaN                NaN                NaN                NaN  \n",
       "3                 NaN                NaN                NaN                NaN  \n",
       "4                 NaN                NaN                NaN                NaN  \n",
       "\n",
       "[5 rows x 24 columns]"
      ]
     },
     "execution_count": 6,
     "metadata": {},
     "output_type": "execute_result"
    }
   ],
   "source": [
    "df.head()"
   ]
  },
  {
   "cell_type": "code",
   "execution_count": null,
   "metadata": {},
   "outputs": [],
   "source": []
  },
  {
   "cell_type": "code",
   "execution_count": 7,
   "metadata": {},
   "outputs": [
    {
     "data": {
      "text/plain": [
       "Dask Series Structure:\n",
       "npartitions=49\n",
       "    string\n",
       "       ...\n",
       "     ...  \n",
       "       ...\n",
       "       ...\n",
       "Dask Name: unique, 3 expressions\n",
       "Expr=Unique(frame=ReadCSV(e54bf13)['#RIC'])"
      ]
     },
     "execution_count": 7,
     "metadata": {},
     "output_type": "execute_result"
    }
   ],
   "source": [
    "df['#RIC'].unique()"
   ]
  },
  {
   "cell_type": "code",
   "execution_count": 8,
   "metadata": {},
   "outputs": [],
   "source": [
    "df['date'] = df['Date[L]'].astype(str) + \"T\" + df['Time[L]'].astype(str)"
   ]
  },
  {
   "cell_type": "code",
   "execution_count": 9,
   "metadata": {},
   "outputs": [
    {
     "data": {
      "text/plain": [
       "0    03-JAN-2006T06:23:07.698117\n",
       "1    03-JAN-2006T06:23:07.698117\n",
       "2    03-JAN-2006T10:00:17.037121\n",
       "3    03-JAN-2006T10:00:17.339836\n",
       "4    03-JAN-2006T10:00:31.900701\n",
       "Name: date, dtype: object"
      ]
     },
     "execution_count": 9,
     "metadata": {},
     "output_type": "execute_result"
    }
   ],
   "source": [
    "df['date'].head()"
   ]
  },
  {
   "cell_type": "code",
   "execution_count": 13,
   "metadata": {},
   "outputs": [],
   "source": [
    "df['date'] = dd.to_datetime(df['date'], format = \"%d-%b-%YT%H:%M:%S.%f\")"
   ]
  },
  {
   "cell_type": "code",
   "execution_count": 16,
   "metadata": {},
   "outputs": [
    {
     "data": {
      "text/plain": [
       "0   2006-01-03 06:23:07.698117\n",
       "1   2006-01-03 06:23:07.698117\n",
       "2   2006-01-03 10:00:17.037121\n",
       "3   2006-01-03 10:00:17.339836\n",
       "4   2006-01-03 10:00:31.900701\n",
       "Name: date, dtype: datetime64[ns]"
      ]
     },
     "execution_count": 16,
     "metadata": {},
     "output_type": "execute_result"
    }
   ],
   "source": [
    "df['date'].head()"
   ]
  },
  {
   "cell_type": "code",
   "execution_count": 17,
   "metadata": {},
   "outputs": [
    {
     "data": {
      "text/plain": [
       "Dask Series Structure:\n",
       "npartitions=49\n",
       "    string\n",
       "       ...\n",
       "     ...  \n",
       "       ...\n",
       "       ...\n",
       "Dask Name: unique, 13 expressions\n",
       "Expr=Unique(frame=Assign(frame=Assign(frame=ReadCSV(e54bf13)))['Type'])"
      ]
     },
     "execution_count": 17,
     "metadata": {},
     "output_type": "execute_result"
    }
   ],
   "source": [
    "df['Type'].unique()"
   ]
  },
  {
   "cell_type": "code",
   "execution_count": 20,
   "metadata": {},
   "outputs": [
    {
     "name": "stdout",
     "output_type": "stream",
     "text": [
      "<dask_expr.expr.Scalar: expr=(IsNa(frame=(Filter(frame=Assign(frame=Assign(frame=ReadCSV(e54bf13))), predicate=Assign(frame=Assign(frame=ReadCSV(e54bf13)))['Type'] == index))['Price'])).sum(), dtype=int64>\n"
     ]
    }
   ],
   "source": [
    "df[df['Type']==\"index\"][\"Price\"].isna().sum()"
   ]
  },
  {
   "cell_type": "code",
   "execution_count": 19,
   "metadata": {},
   "outputs": [
    {
     "data": {
      "text/plain": [
       "<dask_expr.expr.Scalar: expr=(IsNa(frame=(Filter(frame=Assign(frame=Assign(frame=ReadCSV(e54bf13))), predicate=Assign(frame=Assign(frame=ReadCSV(e54bf13)))['Type'] == index))['Volume'])).sum(), dtype=int64>"
      ]
     },
     "execution_count": 19,
     "metadata": {},
     "output_type": "execute_result"
    }
   ],
   "source": [
    "df[df['Type']==\"index\"][\"Volume\"].isna().sum()"
   ]
  },
  {
   "cell_type": "code",
   "execution_count": 21,
   "metadata": {},
   "outputs": [],
   "source": [
    "tick_time, T_list, _ = tick_imbalance_bar(df['Price'][:10000], 100, 100)"
   ]
  },
  {
   "cell_type": "code",
   "execution_count": 22,
   "metadata": {},
   "outputs": [
    {
     "data": {
      "text/plain": [
       "[100]"
      ]
     },
     "execution_count": 22,
     "metadata": {},
     "output_type": "execute_result"
    }
   ],
   "source": [
    "tick_time"
   ]
  },
  {
   "cell_type": "code",
   "execution_count": null,
   "metadata": {},
   "outputs": [],
   "source": []
  },
  {
   "cell_type": "code",
   "execution_count": 24,
   "metadata": {},
   "outputs": [],
   "source": [
    "def tick_bar(price, n_tick):\n",
    "    len_price=len(price)\n",
    "    n_bars = int(np.floor(len_price / n_tick))\n",
    "    ret = []\n",
    "    for i in range(n_bars):\n",
    "        start = i*n_tick; end = (i+1)*n_tick -1\n",
    "        ret.append(price[end] - price[start])\n",
    "    return ret"
   ]
  },
  {
   "cell_type": "code",
   "execution_count": 27,
   "metadata": {},
   "outputs": [],
   "source": [
    "#ret_tick = tick_bar(df['Price'].to_numpy(), 100)\n",
    "ret_tick = tick_bar(df['Price'].to_dask_array().compute(),100)"
   ]
  },
  {
   "cell_type": "code",
   "execution_count": 28,
   "metadata": {},
   "outputs": [
    {
     "data": {
      "text/plain": [
       "(array([4.00000e+00, 0.00000e+00, 1.00000e+00, 3.00000e+00, 0.00000e+00,\n",
       "        0.00000e+00, 1.00000e+00, 3.00000e+00, 1.00000e+00, 0.00000e+00,\n",
       "        1.00000e+00, 0.00000e+00, 0.00000e+00, 0.00000e+00, 1.00000e+00,\n",
       "        0.00000e+00, 2.00000e+00, 3.00000e+00, 2.00000e+00, 1.00000e+00,\n",
       "        3.00000e+00, 0.00000e+00, 2.00000e+00, 0.00000e+00, 1.00000e+00,\n",
       "        1.00000e+00, 1.00000e+00, 2.00000e+00, 2.00000e+00, 2.00000e+00,\n",
       "        2.00000e+00, 1.00000e+01, 6.00000e+00, 1.00000e+01, 3.00000e+00,\n",
       "        2.00000e+00, 1.00000e+01, 9.00000e+00, 8.00000e+00, 1.20000e+01,\n",
       "        8.00000e+00, 1.60000e+01, 1.20000e+01, 1.90000e+01, 9.60000e+01,\n",
       "        4.17272e+05, 1.10680e+04, 6.40000e+01, 1.30000e+01, 1.30000e+01,\n",
       "        1.30000e+01, 1.10000e+01, 4.00000e+00, 9.00000e+00, 1.10000e+01,\n",
       "        7.00000e+00, 7.00000e+00, 1.00000e+00, 6.00000e+00, 5.00000e+00,\n",
       "        9.00000e+00, 2.00000e+00, 1.00000e+00, 3.00000e+00, 0.00000e+00,\n",
       "        2.00000e+00, 0.00000e+00, 3.00000e+00, 1.00000e+00, 0.00000e+00,\n",
       "        0.00000e+00, 1.00000e+00, 3.00000e+00, 1.00000e+00, 2.00000e+00,\n",
       "        5.00000e+00, 0.00000e+00, 1.00000e+00, 0.00000e+00, 0.00000e+00,\n",
       "        0.00000e+00, 0.00000e+00, 1.00000e+00, 0.00000e+00, 0.00000e+00,\n",
       "        1.00000e+00, 2.00000e+00, 1.00000e+00, 0.00000e+00, 2.00000e+00,\n",
       "        1.00000e+00, 0.00000e+00, 0.00000e+00, 0.00000e+00, 0.00000e+00,\n",
       "        0.00000e+00, 0.00000e+00, 0.00000e+00, 1.00000e+00, 1.00000e+00]),\n",
       " array([-24633.13  , -24096.7848, -23560.4396, -23024.0944, -22487.7492,\n",
       "        -21951.404 , -21415.0588, -20878.7136, -20342.3684, -19806.0232,\n",
       "        -19269.678 , -18733.3328, -18196.9876, -17660.6424, -17124.2972,\n",
       "        -16587.952 , -16051.6068, -15515.2616, -14978.9164, -14442.5712,\n",
       "        -13906.226 , -13369.8808, -12833.5356, -12297.1904, -11760.8452,\n",
       "        -11224.5   , -10688.1548, -10151.8096,  -9615.4644,  -9079.1192,\n",
       "         -8542.774 ,  -8006.4288,  -7470.0836,  -6933.7384,  -6397.3932,\n",
       "         -5861.048 ,  -5324.7028,  -4788.3576,  -4252.0124,  -3715.6672,\n",
       "         -3179.322 ,  -2642.9768,  -2106.6316,  -1570.2864,  -1033.9412,\n",
       "          -497.596 ,     38.7492,    575.0944,   1111.4396,   1647.7848,\n",
       "          2184.13  ,   2720.4752,   3256.8204,   3793.1656,   4329.5108,\n",
       "          4865.856 ,   5402.2012,   5938.5464,   6474.8916,   7011.2368,\n",
       "          7547.582 ,   8083.9272,   8620.2724,   9156.6176,   9692.9628,\n",
       "         10229.308 ,  10765.6532,  11301.9984,  11838.3436,  12374.6888,\n",
       "         12911.034 ,  13447.3792,  13983.7244,  14520.0696,  15056.4148,\n",
       "         15592.76  ,  16129.1052,  16665.4504,  17201.7956,  17738.1408,\n",
       "         18274.486 ,  18810.8312,  19347.1764,  19883.5216,  20419.8668,\n",
       "         20956.212 ,  21492.5572,  22028.9024,  22565.2476,  23101.5928,\n",
       "         23637.938 ,  24174.2832,  24710.6284,  25246.9736,  25783.3188,\n",
       "         26319.664 ,  26856.0092,  27392.3544,  27928.6996,  28465.0448,\n",
       "         29001.39  ]),\n",
       " <BarContainer object of 100 artists>)"
      ]
     },
     "execution_count": 28,
     "metadata": {},
     "output_type": "execute_result"
    },
    {
     "data": {
      "image/png": "[encoded data removed]",
      "text/plain": [
       "<Figure size 640x480 with 1 Axes>"
      ]
     },
     "metadata": {},
     "output_type": "display_data"
    }
   ],
   "source": [
    "plt.hist(ret_tick, bins=100)"
   ]
  },
  {
   "cell_type": "code",
   "execution_count": 29,
   "metadata": {},
   "outputs": [],
   "source": [
    "def volume_bar(price, volume, volume_th):\n",
    "    len_price=len(price)\n",
    "    ret = []; cum_vol = 0\n",
    "    count = 0\n",
    "    for i in range(len_price):\n",
    "        if cum_vol == 0:\n",
    "            start_price = price[i]\n",
    "        cum_vol += volume[i]\n",
    "        if cum_vol > volume_th:\n",
    "            count += 1\n",
    "            close_price = price[i]\n",
    "            ret.append(close_price - start_price)\n",
    "            cum_vol = 0\n",
    "    print(count/len(price))\n",
    "    return ret"
   ]
  },
  {
   "cell_type": "code",
   "execution_count": 30,
   "metadata": {},
   "outputs": [],
   "source": [
    "df1 = df[(df['Type']=='Index') & (df['Price']!=0) & (df['#RIC']=='.HSI')]"
   ]
  },
  {
   "cell_type": "code",
   "execution_count": 32,
   "metadata": {},
   "outputs": [
    {
     "name": "stdout",
     "output_type": "stream",
     "text": [
      "0.00846320564249037\n"
     ]
    }
   ],
   "source": [
    "ret_vol = volume_bar(df1['Price'].to_dask_array().compute(), df1['Volume'].to_dask_array().compute(), 10**11)\n",
    "#ret_vol = volume_bar(df1['Price'].to_numpy(), df1['Volume'].to_numpy(), 10**11)"
   ]
  },
  {
   "cell_type": "code",
   "execution_count": 33,
   "metadata": {},
   "outputs": [
    {
     "data": {
      "text/plain": [
       "Dask Series Structure:\n",
       "npartitions=1\n",
       "    float64\n",
       "        ...\n",
       "Dask Name: describenumeric, 22 expressions\n",
       "Expr=((Filter(frame=Assign(frame=Assign(frame=ReadCSV(e54bf13))), predicate=Assign(frame=Assign(frame=ReadCSV(e54bf13)))['Type'] == Index & Assign(frame=Assign(frame=ReadCSV(e54bf13)))['Price'] != 0 & Assign(frame=Assign(frame=ReadCSV(e54bf13)))['#RIC'] == .HSI))['Price']).describenumeric(split_every=False)"
      ]
     },
     "execution_count": 33,
     "metadata": {},
     "output_type": "execute_result"
    }
   ],
   "source": [
    "df1['Price'].describe()"
   ]
  },
  {
   "cell_type": "code",
   "execution_count": 34,
   "metadata": {},
   "outputs": [],
   "source": [
    "plt.plot(df1['date'], df1[\"Price\"])"
   ]
  },
  {
   "cell_type": "code",
   "execution_count": null,
   "metadata": {},
   "outputs": [
    {
     "data": {
      "text/plain": [
       "[<matplotlib.lines.Line2D at 0x2e3f3dc90>]"
      ]
     },
     "execution_count": 34,
     "metadata": {},
     "output_type": "execute_result"
    },
    {
     "data": {
      "image/png": "[encoded data removed]",
      "text/plain": [
       "<Figure size 640x480 with 1 Axes>"
      ]
     },
     "metadata": {},
     "output_type": "display_data"
    }
   ],
   "source": [
    "plt.plot(df1['date'], df1[\"Price\"].diff())"
   ]
  },
  {
   "cell_type": "code",
   "execution_count": null,
   "metadata": {},
   "outputs": [
    {
     "data": {
      "text/plain": [
       "29394.90068493151"
      ]
     },
     "execution_count": 54,
     "metadata": {},
     "output_type": "execute_result"
    }
   ],
   "source": [
    "len(df)/(365*4)"
   ]
  },
  {
   "cell_type": "code",
   "execution_count": null,
   "metadata": {},
   "outputs": [
    {
     "data": {
      "text/plain": [
       "[<matplotlib.lines.Line2D at 0x33bcecc50>]"
      ]
     },
     "execution_count": 60,
     "metadata": {},
     "output_type": "execute_result"
    },
    {
     "data": {
      "image/png": "[encoded data removed]",
      "text/plain": [
       "<Figure size 640x480 with 1 Axes>"
      ]
     },
     "metadata": {},
     "output_type": "display_data"
    }
   ],
   "source": [
    "plt.plot(df1['date'], df1[\"Volume\"])"
   ]
  },
  {
   "cell_type": "code",
   "execution_count": null,
   "metadata": {},
   "outputs": [
    {
     "data": {
      "text/plain": [
       "[<matplotlib.lines.Line2D at 0x11e476550>]"
      ]
     },
     "execution_count": 59,
     "metadata": {},
     "output_type": "execute_result"
    },
    {
     "data": {
      "image/png": "[encoded data removed]",
      "text/plain": [
       "<Figure size 640x480 with 1 Axes>"
      ]
     },
     "metadata": {},
     "output_type": "display_data"
    }
   ],
   "source": [
    "plt.plot(df1[\"Price\"].diff())"
   ]
  },
  {
   "cell_type": "code",
   "execution_count": null,
   "metadata": {},
   "outputs": [
    {
     "data": {
      "text/html": [
       "<div>\n",
       "<style scoped>\n",
       "    .dataframe tbody tr th:only-of-type {\n",
       "        vertical-align: middle;\n",
       "    }\n",
       "\n",
       "    .dataframe tbody tr th {\n",
       "        vertical-align: top;\n",
       "    }\n",
       "\n",
       "    .dataframe thead th {\n",
       "        text-align: right;\n",
       "    }\n",
       "</style>\n",
       "<table border=\"1\" class=\"dataframe\">\n",
       "  <thead>\n",
       "    <tr style=\"text-align: right;\">\n",
       "      <th></th>\n",
       "      <th>#RIC</th>\n",
       "      <th>Current RIC</th>\n",
       "      <th>Date[L]</th>\n",
       "      <th>Time[L]</th>\n",
       "      <th>Type</th>\n",
       "      <th>Ex/Cntrb.ID</th>\n",
       "      <th>Price</th>\n",
       "      <th>Volume</th>\n",
       "      <th>Market VWAP</th>\n",
       "      <th>Bid Price</th>\n",
       "      <th>...</th>\n",
       "      <th>New Price</th>\n",
       "      <th>New Vol</th>\n",
       "      <th>Trd/Qte Date</th>\n",
       "      <th>30 Day ATM IV Call</th>\n",
       "      <th>60 Day ATM IV Call</th>\n",
       "      <th>90 Day ATM IV Call</th>\n",
       "      <th>30 Day ATM IV Put</th>\n",
       "      <th>60 Day ATM IV Put</th>\n",
       "      <th>90 Day ATM IV Put</th>\n",
       "      <th>date</th>\n",
       "    </tr>\n",
       "  </thead>\n",
       "  <tbody>\n",
       "    <tr>\n",
       "      <th>975506</th>\n",
       "      <td>.HSI</td>\n",
       "      <td>NaN</td>\n",
       "      <td>22-JAN-2008</td>\n",
       "      <td>16:01:31.243301</td>\n",
       "      <td>Index</td>\n",
       "      <td>NaN</td>\n",
       "      <td>21757.63</td>\n",
       "      <td>5.941490e+09</td>\n",
       "      <td>NaN</td>\n",
       "      <td>NaN</td>\n",
       "      <td>...</td>\n",
       "      <td>NaN</td>\n",
       "      <td>NaN</td>\n",
       "      <td>NaN</td>\n",
       "      <td>NaN</td>\n",
       "      <td>NaN</td>\n",
       "      <td>NaN</td>\n",
       "      <td>NaN</td>\n",
       "      <td>NaN</td>\n",
       "      <td>NaN</td>\n",
       "      <td>2008-01-22 16:01:31.243301</td>\n",
       "    </tr>\n",
       "    <tr>\n",
       "      <th>975507</th>\n",
       "      <td>.HSI</td>\n",
       "      <td>NaN</td>\n",
       "      <td>22-JAN-2008</td>\n",
       "      <td>16:01:31.647572</td>\n",
       "      <td>Index</td>\n",
       "      <td>NaN</td>\n",
       "      <td>21757.63</td>\n",
       "      <td>5.979656e+09</td>\n",
       "      <td>NaN</td>\n",
       "      <td>NaN</td>\n",
       "      <td>...</td>\n",
       "      <td>NaN</td>\n",
       "      <td>NaN</td>\n",
       "      <td>NaN</td>\n",
       "      <td>NaN</td>\n",
       "      <td>NaN</td>\n",
       "      <td>NaN</td>\n",
       "      <td>NaN</td>\n",
       "      <td>NaN</td>\n",
       "      <td>NaN</td>\n",
       "      <td>2008-01-22 16:01:31.647572</td>\n",
       "    </tr>\n",
       "    <tr>\n",
       "      <th>975510</th>\n",
       "      <td>.HSI</td>\n",
       "      <td>NaN</td>\n",
       "      <td>23-JAN-2008</td>\n",
       "      <td>10:00:16.988797</td>\n",
       "      <td>Index</td>\n",
       "      <td>NaN</td>\n",
       "      <td>23359.20</td>\n",
       "      <td>0.000000e+00</td>\n",
       "      <td>NaN</td>\n",
       "      <td>NaN</td>\n",
       "      <td>...</td>\n",
       "      <td>NaN</td>\n",
       "      <td>NaN</td>\n",
       "      <td>NaN</td>\n",
       "      <td>NaN</td>\n",
       "      <td>NaN</td>\n",
       "      <td>NaN</td>\n",
       "      <td>NaN</td>\n",
       "      <td>NaN</td>\n",
       "      <td>NaN</td>\n",
       "      <td>2008-01-23 10:00:16.988797</td>\n",
       "    </tr>\n",
       "    <tr>\n",
       "      <th>975511</th>\n",
       "      <td>.HSI</td>\n",
       "      <td>NaN</td>\n",
       "      <td>23-JAN-2008</td>\n",
       "      <td>10:00:17.103048</td>\n",
       "      <td>Index</td>\n",
       "      <td>NaN</td>\n",
       "      <td>23359.20</td>\n",
       "      <td>2.060479e+08</td>\n",
       "      <td>NaN</td>\n",
       "      <td>NaN</td>\n",
       "      <td>...</td>\n",
       "      <td>NaN</td>\n",
       "      <td>NaN</td>\n",
       "      <td>NaN</td>\n",
       "      <td>NaN</td>\n",
       "      <td>NaN</td>\n",
       "      <td>NaN</td>\n",
       "      <td>NaN</td>\n",
       "      <td>NaN</td>\n",
       "      <td>NaN</td>\n",
       "      <td>2008-01-23 10:00:17.103048</td>\n",
       "    </tr>\n",
       "    <tr>\n",
       "      <th>975512</th>\n",
       "      <td>.HSI</td>\n",
       "      <td>NaN</td>\n",
       "      <td>23-JAN-2008</td>\n",
       "      <td>10:00:31.518414</td>\n",
       "      <td>Index</td>\n",
       "      <td>NaN</td>\n",
       "      <td>23337.45</td>\n",
       "      <td>2.060479e+08</td>\n",
       "      <td>NaN</td>\n",
       "      <td>NaN</td>\n",
       "      <td>...</td>\n",
       "      <td>NaN</td>\n",
       "      <td>NaN</td>\n",
       "      <td>NaN</td>\n",
       "      <td>NaN</td>\n",
       "      <td>NaN</td>\n",
       "      <td>NaN</td>\n",
       "      <td>NaN</td>\n",
       "      <td>NaN</td>\n",
       "      <td>NaN</td>\n",
       "      <td>2008-01-23 10:00:31.518414</td>\n",
       "    </tr>\n",
       "    <tr>\n",
       "      <th>975513</th>\n",
       "      <td>.HSI</td>\n",
       "      <td>NaN</td>\n",
       "      <td>23-JAN-2008</td>\n",
       "      <td>10:00:31.678560</td>\n",
       "      <td>Index</td>\n",
       "      <td>NaN</td>\n",
       "      <td>23337.45</td>\n",
       "      <td>2.299089e+08</td>\n",
       "      <td>NaN</td>\n",
       "      <td>NaN</td>\n",
       "      <td>...</td>\n",
       "      <td>NaN</td>\n",
       "      <td>NaN</td>\n",
       "      <td>NaN</td>\n",
       "      <td>NaN</td>\n",
       "      <td>NaN</td>\n",
       "      <td>NaN</td>\n",
       "      <td>NaN</td>\n",
       "      <td>NaN</td>\n",
       "      <td>NaN</td>\n",
       "      <td>2008-01-23 10:00:31.678560</td>\n",
       "    </tr>\n",
       "    <tr>\n",
       "      <th>975514</th>\n",
       "      <td>.HSI</td>\n",
       "      <td>NaN</td>\n",
       "      <td>23-JAN-2008</td>\n",
       "      <td>10:00:46.283094</td>\n",
       "      <td>Index</td>\n",
       "      <td>NaN</td>\n",
       "      <td>23366.21</td>\n",
       "      <td>2.299089e+08</td>\n",
       "      <td>NaN</td>\n",
       "      <td>NaN</td>\n",
       "      <td>...</td>\n",
       "      <td>NaN</td>\n",
       "      <td>NaN</td>\n",
       "      <td>NaN</td>\n",
       "      <td>NaN</td>\n",
       "      <td>NaN</td>\n",
       "      <td>NaN</td>\n",
       "      <td>NaN</td>\n",
       "      <td>NaN</td>\n",
       "      <td>NaN</td>\n",
       "      <td>2008-01-23 10:00:46.283094</td>\n",
       "    </tr>\n",
       "    <tr>\n",
       "      <th>975515</th>\n",
       "      <td>.HSI</td>\n",
       "      <td>NaN</td>\n",
       "      <td>23-JAN-2008</td>\n",
       "      <td>10:00:46.437381</td>\n",
       "      <td>Index</td>\n",
       "      <td>NaN</td>\n",
       "      <td>23366.21</td>\n",
       "      <td>2.452883e+08</td>\n",
       "      <td>NaN</td>\n",
       "      <td>NaN</td>\n",
       "      <td>...</td>\n",
       "      <td>NaN</td>\n",
       "      <td>NaN</td>\n",
       "      <td>NaN</td>\n",
       "      <td>NaN</td>\n",
       "      <td>NaN</td>\n",
       "      <td>NaN</td>\n",
       "      <td>NaN</td>\n",
       "      <td>NaN</td>\n",
       "      <td>NaN</td>\n",
       "      <td>2008-01-23 10:00:46.437381</td>\n",
       "    </tr>\n",
       "  </tbody>\n",
       "</table>\n",
       "<p>8 rows × 25 columns</p>\n",
       "</div>"
      ],
      "text/plain": [
       "        #RIC  Current RIC      Date[L]          Time[L]   Type  Ex/Cntrb.ID  \\\n",
       "975506  .HSI          NaN  22-JAN-2008  16:01:31.243301  Index          NaN   \n",
       "975507  .HSI          NaN  22-JAN-2008  16:01:31.647572  Index          NaN   \n",
       "975510  .HSI          NaN  23-JAN-2008  10:00:16.988797  Index          NaN   \n",
       "975511  .HSI          NaN  23-JAN-2008  10:00:17.103048  Index          NaN   \n",
       "975512  .HSI          NaN  23-JAN-2008  10:00:31.518414  Index          NaN   \n",
       "975513  .HSI          NaN  23-JAN-2008  10:00:31.678560  Index          NaN   \n",
       "975514  .HSI          NaN  23-JAN-2008  10:00:46.283094  Index          NaN   \n",
       "975515  .HSI          NaN  23-JAN-2008  10:00:46.437381  Index          NaN   \n",
       "\n",
       "           Price        Volume  Market VWAP  Bid Price  ...  New Price  \\\n",
       "975506  21757.63  5.941490e+09          NaN        NaN  ...        NaN   \n",
       "975507  21757.63  5.979656e+09          NaN        NaN  ...        NaN   \n",
       "975510  23359.20  0.000000e+00          NaN        NaN  ...        NaN   \n",
       "975511  23359.20  2.060479e+08          NaN        NaN  ...        NaN   \n",
       "975512  23337.45  2.060479e+08          NaN        NaN  ...        NaN   \n",
       "975513  23337.45  2.299089e+08          NaN        NaN  ...        NaN   \n",
       "975514  23366.21  2.299089e+08          NaN        NaN  ...        NaN   \n",
       "975515  23366.21  2.452883e+08          NaN        NaN  ...        NaN   \n",
       "\n",
       "        New Vol  Trd/Qte Date 30 Day ATM IV Call  60 Day ATM IV Call  \\\n",
       "975506      NaN           NaN                NaN                 NaN   \n",
       "975507      NaN           NaN                NaN                 NaN   \n",
       "975510      NaN           NaN                NaN                 NaN   \n",
       "975511      NaN           NaN                NaN                 NaN   \n",
       "975512      NaN           NaN                NaN                 NaN   \n",
       "975513      NaN           NaN                NaN                 NaN   \n",
       "975514      NaN           NaN                NaN                 NaN   \n",
       "975515      NaN           NaN                NaN                 NaN   \n",
       "\n",
       "        90 Day ATM IV Call  30 Day ATM IV Put  60 Day ATM IV Put  \\\n",
       "975506                 NaN                NaN                NaN   \n",
       "975507                 NaN                NaN                NaN   \n",
       "975510                 NaN                NaN                NaN   \n",
       "975511                 NaN                NaN                NaN   \n",
       "975512                 NaN                NaN                NaN   \n",
       "975513                 NaN                NaN                NaN   \n",
       "975514                 NaN                NaN                NaN   \n",
       "975515                 NaN                NaN                NaN   \n",
       "\n",
       "        90 Day ATM IV Put                       date  \n",
       "975506                NaN 2008-01-22 16:01:31.243301  \n",
       "975507                NaN 2008-01-22 16:01:31.647572  \n",
       "975510                NaN 2008-01-23 10:00:16.988797  \n",
       "975511                NaN 2008-01-23 10:00:17.103048  \n",
       "975512                NaN 2008-01-23 10:00:31.518414  \n",
       "975513                NaN 2008-01-23 10:00:31.678560  \n",
       "975514                NaN 2008-01-23 10:00:46.283094  \n",
       "975515                NaN 2008-01-23 10:00:46.437381  \n",
       "\n",
       "[8 rows x 25 columns]"
      ]
     },
     "execution_count": 65,
     "metadata": {},
     "output_type": "execute_result"
    }
   ],
   "source": [
    "df1.loc[975505:975515]"
   ]
  },
  {
   "cell_type": "code",
   "execution_count": null,
   "metadata": {},
   "outputs": [
    {
     "data": {
      "text/html": [
       "<div>\n",
       "<style scoped>\n",
       "    .dataframe tbody tr th:only-of-type {\n",
       "        vertical-align: middle;\n",
       "    }\n",
       "\n",
       "    .dataframe tbody tr th {\n",
       "        vertical-align: top;\n",
       "    }\n",
       "\n",
       "    .dataframe thead th {\n",
       "        text-align: right;\n",
       "    }\n",
       "</style>\n",
       "<table border=\"1\" class=\"dataframe\">\n",
       "  <thead>\n",
       "    <tr style=\"text-align: right;\">\n",
       "      <th></th>\n",
       "      <th>#RIC</th>\n",
       "      <th>Current RIC</th>\n",
       "      <th>Date[L]</th>\n",
       "      <th>Time[L]</th>\n",
       "      <th>Type</th>\n",
       "      <th>Ex/Cntrb.ID</th>\n",
       "      <th>Price</th>\n",
       "      <th>Volume</th>\n",
       "      <th>Market VWAP</th>\n",
       "      <th>Bid Price</th>\n",
       "      <th>...</th>\n",
       "      <th>New Price</th>\n",
       "      <th>New Vol</th>\n",
       "      <th>Trd/Qte Date</th>\n",
       "      <th>30 Day ATM IV Call</th>\n",
       "      <th>60 Day ATM IV Call</th>\n",
       "      <th>90 Day ATM IV Call</th>\n",
       "      <th>30 Day ATM IV Put</th>\n",
       "      <th>60 Day ATM IV Put</th>\n",
       "      <th>90 Day ATM IV Put</th>\n",
       "      <th>date</th>\n",
       "    </tr>\n",
       "    <tr>\n",
       "      <th>date</th>\n",
       "      <th></th>\n",
       "      <th></th>\n",
       "      <th></th>\n",
       "      <th></th>\n",
       "      <th></th>\n",
       "      <th></th>\n",
       "      <th></th>\n",
       "      <th></th>\n",
       "      <th></th>\n",
       "      <th></th>\n",
       "      <th></th>\n",
       "      <th></th>\n",
       "      <th></th>\n",
       "      <th></th>\n",
       "      <th></th>\n",
       "      <th></th>\n",
       "      <th></th>\n",
       "      <th></th>\n",
       "      <th></th>\n",
       "      <th></th>\n",
       "      <th></th>\n",
       "    </tr>\n",
       "  </thead>\n",
       "  <tbody>\n",
       "    <tr>\n",
       "      <th>2006-01-03 10:00:17.037121</th>\n",
       "      <td>.HSI</td>\n",
       "      <td>NaN</td>\n",
       "      <td>03-JAN-2006</td>\n",
       "      <td>10:00:17.037121</td>\n",
       "      <td>Index</td>\n",
       "      <td>NaN</td>\n",
       "      <td>14843.97</td>\n",
       "      <td>0.0</td>\n",
       "      <td>NaN</td>\n",
       "      <td>NaN</td>\n",
       "      <td>...</td>\n",
       "      <td>NaN</td>\n",
       "      <td>NaN</td>\n",
       "      <td>NaN</td>\n",
       "      <td>NaN</td>\n",
       "      <td>NaN</td>\n",
       "      <td>NaN</td>\n",
       "      <td>NaN</td>\n",
       "      <td>NaN</td>\n",
       "      <td>NaN</td>\n",
       "      <td>2006-01-03 10:00:17.037121</td>\n",
       "    </tr>\n",
       "    <tr>\n",
       "      <th>2006-01-03 10:00:17.339836</th>\n",
       "      <td>.HSI</td>\n",
       "      <td>NaN</td>\n",
       "      <td>03-JAN-2006</td>\n",
       "      <td>10:00:17.339836</td>\n",
       "      <td>Index</td>\n",
       "      <td>NaN</td>\n",
       "      <td>14843.97</td>\n",
       "      <td>19649233.0</td>\n",
       "      <td>NaN</td>\n",
       "      <td>NaN</td>\n",
       "      <td>...</td>\n",
       "      <td>NaN</td>\n",
       "      <td>NaN</td>\n",
       "      <td>NaN</td>\n",
       "      <td>NaN</td>\n",
       "      <td>NaN</td>\n",
       "      <td>NaN</td>\n",
       "      <td>NaN</td>\n",
       "      <td>NaN</td>\n",
       "      <td>NaN</td>\n",
       "      <td>2006-01-03 10:00:17.339836</td>\n",
       "    </tr>\n",
       "    <tr>\n",
       "      <th>2006-01-03 10:00:31.900701</th>\n",
       "      <td>.HSI</td>\n",
       "      <td>NaN</td>\n",
       "      <td>03-JAN-2006</td>\n",
       "      <td>10:00:31.900701</td>\n",
       "      <td>Index</td>\n",
       "      <td>NaN</td>\n",
       "      <td>14850.92</td>\n",
       "      <td>19649233.0</td>\n",
       "      <td>NaN</td>\n",
       "      <td>NaN</td>\n",
       "      <td>...</td>\n",
       "      <td>NaN</td>\n",
       "      <td>NaN</td>\n",
       "      <td>NaN</td>\n",
       "      <td>NaN</td>\n",
       "      <td>NaN</td>\n",
       "      <td>NaN</td>\n",
       "      <td>NaN</td>\n",
       "      <td>NaN</td>\n",
       "      <td>NaN</td>\n",
       "      <td>2006-01-03 10:00:31.900701</td>\n",
       "    </tr>\n",
       "    <tr>\n",
       "      <th>2006-01-03 10:00:32.101860</th>\n",
       "      <td>.HSI</td>\n",
       "      <td>NaN</td>\n",
       "      <td>03-JAN-2006</td>\n",
       "      <td>10:00:32.101860</td>\n",
       "      <td>Index</td>\n",
       "      <td>NaN</td>\n",
       "      <td>14850.92</td>\n",
       "      <td>19868433.0</td>\n",
       "      <td>NaN</td>\n",
       "      <td>NaN</td>\n",
       "      <td>...</td>\n",
       "      <td>NaN</td>\n",
       "      <td>NaN</td>\n",
       "      <td>NaN</td>\n",
       "      <td>NaN</td>\n",
       "      <td>NaN</td>\n",
       "      <td>NaN</td>\n",
       "      <td>NaN</td>\n",
       "      <td>NaN</td>\n",
       "      <td>NaN</td>\n",
       "      <td>2006-01-03 10:00:32.101860</td>\n",
       "    </tr>\n",
       "    <tr>\n",
       "      <th>2006-01-03 10:00:47.771052</th>\n",
       "      <td>.HSI</td>\n",
       "      <td>NaN</td>\n",
       "      <td>03-JAN-2006</td>\n",
       "      <td>10:00:47.771052</td>\n",
       "      <td>Index</td>\n",
       "      <td>NaN</td>\n",
       "      <td>14846.30</td>\n",
       "      <td>19868433.0</td>\n",
       "      <td>NaN</td>\n",
       "      <td>NaN</td>\n",
       "      <td>...</td>\n",
       "      <td>NaN</td>\n",
       "      <td>NaN</td>\n",
       "      <td>NaN</td>\n",
       "      <td>NaN</td>\n",
       "      <td>NaN</td>\n",
       "      <td>NaN</td>\n",
       "      <td>NaN</td>\n",
       "      <td>NaN</td>\n",
       "      <td>NaN</td>\n",
       "      <td>2006-01-03 10:00:47.771052</td>\n",
       "    </tr>\n",
       "  </tbody>\n",
       "</table>\n",
       "<p>5 rows × 25 columns</p>\n",
       "</div>"
      ],
      "text/plain": [
       "                            #RIC  Current RIC      Date[L]          Time[L]  \\\n",
       "date                                                                          \n",
       "2006-01-03 10:00:17.037121  .HSI          NaN  03-JAN-2006  10:00:17.037121   \n",
       "2006-01-03 10:00:17.339836  .HSI          NaN  03-JAN-2006  10:00:17.339836   \n",
       "2006-01-03 10:00:31.900701  .HSI          NaN  03-JAN-2006  10:00:31.900701   \n",
       "2006-01-03 10:00:32.101860  .HSI          NaN  03-JAN-2006  10:00:32.101860   \n",
       "2006-01-03 10:00:47.771052  .HSI          NaN  03-JAN-2006  10:00:47.771052   \n",
       "\n",
       "                             Type  Ex/Cntrb.ID     Price      Volume  \\\n",
       "date                                                                   \n",
       "2006-01-03 10:00:17.037121  Index          NaN  14843.97         0.0   \n",
       "2006-01-03 10:00:17.339836  Index          NaN  14843.97  19649233.0   \n",
       "2006-01-03 10:00:31.900701  Index          NaN  14850.92  19649233.0   \n",
       "2006-01-03 10:00:32.101860  Index          NaN  14850.92  19868433.0   \n",
       "2006-01-03 10:00:47.771052  Index          NaN  14846.30  19868433.0   \n",
       "\n",
       "                            Market VWAP  Bid Price  ...  New Price  New Vol  \\\n",
       "date                                                ...                       \n",
       "2006-01-03 10:00:17.037121          NaN        NaN  ...        NaN      NaN   \n",
       "2006-01-03 10:00:17.339836          NaN        NaN  ...        NaN      NaN   \n",
       "2006-01-03 10:00:31.900701          NaN        NaN  ...        NaN      NaN   \n",
       "2006-01-03 10:00:32.101860          NaN        NaN  ...        NaN      NaN   \n",
       "2006-01-03 10:00:47.771052          NaN        NaN  ...        NaN      NaN   \n",
       "\n",
       "                            Trd/Qte Date 30 Day ATM IV Call  \\\n",
       "date                                                          \n",
       "2006-01-03 10:00:17.037121           NaN                NaN   \n",
       "2006-01-03 10:00:17.339836           NaN                NaN   \n",
       "2006-01-03 10:00:31.900701           NaN                NaN   \n",
       "2006-01-03 10:00:32.101860           NaN                NaN   \n",
       "2006-01-03 10:00:47.771052           NaN                NaN   \n",
       "\n",
       "                            60 Day ATM IV Call  90 Day ATM IV Call  \\\n",
       "date                                                                 \n",
       "2006-01-03 10:00:17.037121                 NaN                 NaN   \n",
       "2006-01-03 10:00:17.339836                 NaN                 NaN   \n",
       "2006-01-03 10:00:31.900701                 NaN                 NaN   \n",
       "2006-01-03 10:00:32.101860                 NaN                 NaN   \n",
       "2006-01-03 10:00:47.771052                 NaN                 NaN   \n",
       "\n",
       "                            30 Day ATM IV Put  60 Day ATM IV Put  \\\n",
       "date                                                               \n",
       "2006-01-03 10:00:17.037121                NaN                NaN   \n",
       "2006-01-03 10:00:17.339836                NaN                NaN   \n",
       "2006-01-03 10:00:31.900701                NaN                NaN   \n",
       "2006-01-03 10:00:32.101860                NaN                NaN   \n",
       "2006-01-03 10:00:47.771052                NaN                NaN   \n",
       "\n",
       "                            90 Day ATM IV Put                       date  \n",
       "date                                                                      \n",
       "2006-01-03 10:00:17.037121                NaN 2006-01-03 10:00:17.037121  \n",
       "2006-01-03 10:00:17.339836                NaN 2006-01-03 10:00:17.339836  \n",
       "2006-01-03 10:00:31.900701                NaN 2006-01-03 10:00:31.900701  \n",
       "2006-01-03 10:00:32.101860                NaN 2006-01-03 10:00:32.101860  \n",
       "2006-01-03 10:00:47.771052                NaN 2006-01-03 10:00:47.771052  \n",
       "\n",
       "[5 rows x 25 columns]"
      ]
     },
     "execution_count": 52,
     "metadata": {},
     "output_type": "execute_result"
    }
   ],
   "source": [
    "df2 = df1.copy()\n",
    "df2.index = df2['date']\n",
    "df2.head()"
   ]
  },
  {
   "cell_type": "code",
   "execution_count": null,
   "metadata": {},
   "outputs": [],
   "source": [
    "ohlc = df2['Price'].resample('15Min').ohlc()"
   ]
  },
  {
   "cell_type": "code",
   "execution_count": null,
   "metadata": {},
   "outputs": [
    {
     "data": {
      "text/html": [
       "<div>\n",
       "<style scoped>\n",
       "    .dataframe tbody tr th:only-of-type {\n",
       "        vertical-align: middle;\n",
       "    }\n",
       "\n",
       "    .dataframe tbody tr th {\n",
       "        vertical-align: top;\n",
       "    }\n",
       "\n",
       "    .dataframe thead th {\n",
       "        text-align: right;\n",
       "    }\n",
       "</style>\n",
       "<table border=\"1\" class=\"dataframe\">\n",
       "  <thead>\n",
       "    <tr style=\"text-align: right;\">\n",
       "      <th></th>\n",
       "      <th>open</th>\n",
       "      <th>high</th>\n",
       "      <th>low</th>\n",
       "      <th>close</th>\n",
       "    </tr>\n",
       "    <tr>\n",
       "      <th>date</th>\n",
       "      <th></th>\n",
       "      <th></th>\n",
       "      <th></th>\n",
       "      <th></th>\n",
       "    </tr>\n",
       "  </thead>\n",
       "  <tbody>\n",
       "    <tr>\n",
       "      <th>2006-01-03 10:00:00</th>\n",
       "      <td>14843.97</td>\n",
       "      <td>14871.65</td>\n",
       "      <td>14843.97</td>\n",
       "      <td>14868.92</td>\n",
       "    </tr>\n",
       "    <tr>\n",
       "      <th>2006-01-03 10:15:00</th>\n",
       "      <td>14861.30</td>\n",
       "      <td>14910.40</td>\n",
       "      <td>14861.30</td>\n",
       "      <td>14910.40</td>\n",
       "    </tr>\n",
       "    <tr>\n",
       "      <th>2006-01-03 10:30:00</th>\n",
       "      <td>14910.67</td>\n",
       "      <td>14925.11</td>\n",
       "      <td>14901.27</td>\n",
       "      <td>14909.90</td>\n",
       "    </tr>\n",
       "    <tr>\n",
       "      <th>2006-01-03 10:45:00</th>\n",
       "      <td>14910.59</td>\n",
       "      <td>14927.08</td>\n",
       "      <td>14907.23</td>\n",
       "      <td>14910.25</td>\n",
       "    </tr>\n",
       "    <tr>\n",
       "      <th>2006-01-03 11:00:00</th>\n",
       "      <td>14910.34</td>\n",
       "      <td>14917.18</td>\n",
       "      <td>14898.37</td>\n",
       "      <td>14917.18</td>\n",
       "    </tr>\n",
       "  </tbody>\n",
       "</table>\n",
       "</div>"
      ],
      "text/plain": [
       "                         open      high       low     close\n",
       "date                                                       \n",
       "2006-01-03 10:00:00  14843.97  14871.65  14843.97  14868.92\n",
       "2006-01-03 10:15:00  14861.30  14910.40  14861.30  14910.40\n",
       "2006-01-03 10:30:00  14910.67  14925.11  14901.27  14909.90\n",
       "2006-01-03 10:45:00  14910.59  14927.08  14907.23  14910.25\n",
       "2006-01-03 11:00:00  14910.34  14917.18  14898.37  14917.18"
      ]
     },
     "execution_count": 57,
     "metadata": {},
     "output_type": "execute_result"
    }
   ],
   "source": [
    "ohlc.head()"
   ]
  },
  {
   "cell_type": "code",
   "execution_count": null,
   "metadata": {},
   "outputs": [
    {
     "data": {
      "text/plain": [
       "(array([1.000e+00, 0.000e+00, 0.000e+00, 0.000e+00, 0.000e+00, 0.000e+00,\n",
       "        1.000e+00, 0.000e+00, 0.000e+00, 0.000e+00, 0.000e+00, 0.000e+00,\n",
       "        0.000e+00, 0.000e+00, 0.000e+00, 1.000e+00, 3.000e+00, 1.000e+00,\n",
       "        1.000e+00, 2.000e+00, 0.000e+00, 1.000e+00, 2.000e+00, 1.000e+00,\n",
       "        6.000e+00, 4.000e+00, 5.000e+00, 5.000e+00, 1.500e+01, 1.200e+01,\n",
       "        8.000e+00, 7.000e+00, 1.600e+01, 1.400e+01, 2.200e+01, 2.200e+01,\n",
       "        3.400e+01, 4.200e+01, 6.900e+01, 7.500e+01, 1.070e+02, 1.440e+02,\n",
       "        1.900e+02, 2.440e+02, 3.470e+02, 4.380e+02, 5.840e+02, 8.630e+02,\n",
       "        1.170e+03, 1.718e+03, 4.017e+03, 2.018e+03, 1.649e+03, 1.189e+03,\n",
       "        8.320e+02, 5.780e+02, 4.280e+02, 3.020e+02, 2.360e+02, 1.730e+02,\n",
       "        1.270e+02, 7.900e+01, 5.300e+01, 4.200e+01, 3.500e+01, 2.400e+01,\n",
       "        2.000e+01, 2.400e+01, 1.400e+01, 1.700e+01, 1.100e+01, 7.000e+00,\n",
       "        4.000e+00, 8.000e+00, 5.000e+00, 1.000e+00, 4.000e+00, 1.000e+00,\n",
       "        5.000e+00, 1.000e+00, 0.000e+00, 3.000e+00, 1.000e+00, 1.000e+00,\n",
       "        0.000e+00, 0.000e+00, 0.000e+00, 0.000e+00, 0.000e+00, 2.000e+00,\n",
       "        0.000e+00, 0.000e+00, 0.000e+00, 0.000e+00, 0.000e+00, 0.000e+00,\n",
       "        0.000e+00, 0.000e+00, 0.000e+00, 1.000e+00]),\n",
       " array([-595.99  , -584.2805, -572.571 , -560.8615, -549.152 , -537.4425,\n",
       "        -525.733 , -514.0235, -502.314 , -490.6045, -478.895 , -467.1855,\n",
       "        -455.476 , -443.7665, -432.057 , -420.3475, -408.638 , -396.9285,\n",
       "        -385.219 , -373.5095, -361.8   , -350.0905, -338.381 , -326.6715,\n",
       "        -314.962 , -303.2525, -291.543 , -279.8335, -268.124 , -256.4145,\n",
       "        -244.705 , -232.9955, -221.286 , -209.5765, -197.867 , -186.1575,\n",
       "        -174.448 , -162.7385, -151.029 , -139.3195, -127.61  , -115.9005,\n",
       "        -104.191 ,  -92.4815,  -80.772 ,  -69.0625,  -57.353 ,  -45.6435,\n",
       "         -33.934 ,  -22.2245,  -10.515 ,    1.1945,   12.904 ,   24.6135,\n",
       "          36.323 ,   48.0325,   59.742 ,   71.4515,   83.161 ,   94.8705,\n",
       "         106.58  ,  118.2895,  129.999 ,  141.7085,  153.418 ,  165.1275,\n",
       "         176.837 ,  188.5465,  200.256 ,  211.9655,  223.675 ,  235.3845,\n",
       "         247.094 ,  258.8035,  270.513 ,  282.2225,  293.932 ,  305.6415,\n",
       "         317.351 ,  329.0605,  340.77  ,  352.4795,  364.189 ,  375.8985,\n",
       "         387.608 ,  399.3175,  411.027 ,  422.7365,  434.446 ,  446.1555,\n",
       "         457.865 ,  469.5745,  481.284 ,  492.9935,  504.703 ,  516.4125,\n",
       "         528.122 ,  539.8315,  551.541 ,  563.2505,  574.96  ]),\n",
       " <BarContainer object of 100 artists>)"
      ]
     },
     "execution_count": 58,
     "metadata": {},
     "output_type": "execute_result"
    },
    {
     "data": {
      "image/png": "[encoded data removed]",
      "text/plain": [
       "<Figure size 640x480 with 1 Axes>"
      ]
     },
     "metadata": {},
     "output_type": "display_data"
    }
   ],
   "source": [
    "plt.hist(ohlc['close']-ohlc['open'], bins=100)"
   ]
  },
  {
   "cell_type": "code",
   "execution_count": null,
   "metadata": {},
   "outputs": [
    {
     "data": {
      "text/plain": [
       "(0, 24)"
      ]
     },
     "execution_count": 26,
     "metadata": {},
     "output_type": "execute_result"
    }
   ],
   "source": [
    "df1.shape"
   ]
  },
  {
   "cell_type": "code",
   "execution_count": null,
   "metadata": {},
   "outputs": [],
   "source": [
    "ret_vol_norm = (ret_vol - np.mean(ret_vol))/np.std(ret_vol)"
   ]
  },
  {
   "cell_type": "code",
   "execution_count": null,
   "metadata": {},
   "outputs": [
    {
     "data": {
      "text/plain": [
       "(array([1.000e+00, 0.000e+00, 2.000e+00, 1.000e+00, 0.000e+00, 0.000e+00,\n",
       "        0.000e+00, 0.000e+00, 0.000e+00, 1.000e+00, 0.000e+00, 0.000e+00,\n",
       "        2.000e+00, 2.000e+00, 0.000e+00, 1.000e+00, 2.000e+00, 1.000e+00,\n",
       "        1.000e+00, 1.000e+00, 6.000e+00, 3.000e+00, 2.000e+00, 3.000e+00,\n",
       "        1.000e+00, 3.000e+00, 7.000e+00, 4.000e+00, 4.000e+00, 6.000e+00,\n",
       "        3.000e+00, 6.000e+00, 1.200e+01, 1.100e+01, 9.000e+00, 7.000e+00,\n",
       "        1.100e+01, 1.900e+01, 3.100e+01, 3.800e+01, 5.000e+01, 7.100e+01,\n",
       "        1.040e+02, 1.750e+02, 3.640e+02, 7.920e+02, 1.537e+03, 2.969e+03,\n",
       "        4.210e+03, 2.687e+03, 1.337e+03, 6.050e+02, 3.110e+02, 1.550e+02,\n",
       "        9.300e+01, 6.700e+01, 4.300e+01, 3.300e+01, 3.300e+01, 2.400e+01,\n",
       "        1.100e+01, 1.300e+01, 9.000e+00, 1.000e+01, 1.500e+01, 5.000e+00,\n",
       "        7.000e+00, 5.000e+00, 2.000e+00, 2.000e+00, 6.000e+00, 3.000e+00,\n",
       "        3.000e+00, 1.000e+00, 1.000e+00, 3.000e+00, 2.000e+00, 4.000e+00,\n",
       "        1.000e+00, 0.000e+00, 1.000e+00, 1.000e+00, 1.000e+00, 0.000e+00,\n",
       "        0.000e+00, 0.000e+00, 1.000e+00, 1.000e+00, 0.000e+00, 0.000e+00,\n",
       "        0.000e+00, 0.000e+00, 0.000e+00, 0.000e+00, 0.000e+00, 1.000e+00,\n",
       "        0.000e+00, 0.000e+00, 0.000e+00, 1.000e+00]),\n",
       " array([-14.20770171, -13.9139944 , -13.62028709, -13.32657978,\n",
       "        -13.03287247, -12.73916516, -12.44545785, -12.15175054,\n",
       "        -11.85804323, -11.56433592, -11.27062861, -10.9769213 ,\n",
       "        -10.68321399, -10.38950668, -10.09579937,  -9.80209206,\n",
       "         -9.50838475,  -9.21467744,  -8.92097013,  -8.62726282,\n",
       "         -8.33355551,  -8.0398482 ,  -7.74614089,  -7.45243358,\n",
       "         -7.15872627,  -6.86501896,  -6.57131165,  -6.27760434,\n",
       "         -5.98389703,  -5.69018972,  -5.39648241,  -5.1027751 ,\n",
       "         -4.80906779,  -4.51536048,  -4.22165317,  -3.92794586,\n",
       "         -3.63423855,  -3.34053124,  -3.04682393,  -2.75311662,\n",
       "         -2.45940931,  -2.165702  ,  -1.87199469,  -1.57828738,\n",
       "         -1.28458007,  -0.99087276,  -0.69716545,  -0.40345814,\n",
       "         -0.10975083,   0.18395648,   0.47766379,   0.7713711 ,\n",
       "          1.06507841,   1.35878572,   1.65249303,   1.94620034,\n",
       "          2.23990765,   2.53361496,   2.82732227,   3.12102958,\n",
       "          3.41473689,   3.7084442 ,   4.00215151,   4.29585882,\n",
       "          4.58956613,   4.88327344,   5.17698075,   5.47068806,\n",
       "          5.76439537,   6.05810268,   6.35180999,   6.6455173 ,\n",
       "          6.93922461,   7.23293192,   7.52663923,   7.82034654,\n",
       "          8.11405384,   8.40776115,   8.70146846,   8.99517577,\n",
       "          9.28888308,   9.58259039,   9.8762977 ,  10.17000501,\n",
       "         10.46371232,  10.75741963,  11.05112694,  11.34483425,\n",
       "         11.63854156,  11.93224887,  12.22595618,  12.51966349,\n",
       "         12.8133708 ,  13.10707811,  13.40078542,  13.69449273,\n",
       "         13.98820004,  14.28190735,  14.57561466,  14.86932197,\n",
       "         15.16302928]),\n",
       " <BarContainer object of 100 artists>)"
      ]
     },
     "execution_count": 43,
     "metadata": {},
     "output_type": "execute_result"
    },
    {
     "data": {
      "image/png": "[encoded data removed]",
      "text/plain": [
       "<Figure size 640x480 with 1 Axes>"
      ]
     },
     "metadata": {},
     "output_type": "display_data"
    }
   ],
   "source": [
    "plt.hist(ret_vol_norm, bins=100)"
   ]
  },
  {
   "cell_type": "code",
   "execution_count": null,
   "metadata": {},
   "outputs": [
    {
     "data": {
      "text/plain": [
       "534492"
      ]
     },
     "execution_count": 52,
     "metadata": {},
     "output_type": "execute_result"
    }
   ],
   "source": [
    "len(df1)"
   ]
  },
  {
   "cell_type": "code",
   "execution_count": null,
   "metadata": {},
   "outputs": [
    {
     "data": {
      "text/plain": [
       "17.037727412197"
      ]
     },
     "execution_count": 56,
     "metadata": {},
     "output_type": "execute_result"
    }
   ],
   "source": [
    "df1['volume'].sum() / len(df1)"
   ]
  },
  {
   "cell_type": "code",
   "execution_count": null,
   "metadata": {},
   "outputs": [],
   "source": [
    "import statsmodels.api as sm "
   ]
  },
  {
   "cell_type": "code",
   "execution_count": null,
   "metadata": {},
   "outputs": [],
   "source": [
    "ret_tick_st = np.array(ret_tick)\n",
    "ret_tick_st = (ret_tick_st - ret_tick_st.mean())/ret_tick_st.std()"
   ]
  },
  {
   "cell_type": "code",
   "execution_count": null,
   "metadata": {},
   "outputs": [
    {
     "name": "stdout",
     "output_type": "stream",
     "text": [
      "\n"
     ]
    },
    {
     "data": {
      "image/png": "[encoded data removed]",
      "text/plain": [
       "<Figure size 640x480 with 1 Axes>"
      ]
     },
     "metadata": {},
     "output_type": "display_data"
    }
   ],
   "source": [
    "sm.qqplot(ret_vol_norm, line='45')\n",
    "print(\"\")"
   ]
  },
  {
   "cell_type": "code",
   "execution_count": null,
   "metadata": {},
   "outputs": [
    {
     "data": {
      "text/plain": [
       "(0.14311204163179458, 6.884318821031461e-286)"
      ]
     },
     "execution_count": 50,
     "metadata": {},
     "output_type": "execute_result"
    }
   ],
   "source": [
    "from scipy.stats import kstest\n",
    "stat, pval = kstest(ret_vol_norm, 'norm')\n",
    "stat, pval"
   ]
  },
  {
   "cell_type": "code",
   "execution_count": null,
   "metadata": {},
   "outputs": [],
   "source": []
  },
  {
   "cell_type": "code",
   "execution_count": null,
   "metadata": {},
   "outputs": [],
   "source": [
    "ret_vol_st = np.array(ret_vol)\n",
    "ret_vol_st = (ret_vol_st - ret_vol_st.mean())/ret_vol_st.std()"
   ]
  },
  {
   "cell_type": "code",
   "execution_count": null,
   "metadata": {},
   "outputs": [
    {
     "data": {
      "image/png": "[encoded data removed]",
      "text/plain": [
       "<Figure size 640x480 with 1 Axes>"
      ]
     },
     "execution_count": 68,
     "metadata": {},
     "output_type": "execute_result"
    },
    {
     "data": {
      "image/png": "[encoded data removed]",
      "text/plain": [
       "<Figure size 640x480 with 1 Axes>"
      ]
     },
     "metadata": {},
     "output_type": "display_data"
    }
   ],
   "source": [
    "sm.qqplot(ret_vol_st, line='45')"
   ]
  },
  {
   "cell_type": "code",
   "execution_count": null,
   "metadata": {},
   "outputs": [],
   "source": []
  }
 ],
 "metadata": {
  "kernelspec": {
   "display_name": ".venv",
   "language": "python",
   "name": "python3"
  },
  "language_info": {
   "codemirror_mode": {
    "name": "ipython",
    "version": 3
   },
   "file_extension": ".py",
   "mimetype": "text/x-python",
   "name": "python",
   "nbconvert_exporter": "python",
   "pygments_lexer": "ipython3",
   "version": "3.9.6"
  }
 },
 "nbformat": 4,
 "nbformat_minor": 2
}
