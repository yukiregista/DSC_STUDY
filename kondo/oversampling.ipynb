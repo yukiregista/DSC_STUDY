{
 "cells": [
  {
   "cell_type": "code",
   "execution_count": 2,
   "id": "a0e361a7",
   "metadata": {},
   "outputs": [],
   "source": [
    "from imblearn.over_sampling import SMOTE\n",
    "import pandas as pd\n",
    "from sklearn.model_selection import train_test_split\n",
    "target = 'MIS_Status'"
   ]
  },
  {
   "cell_type": "code",
   "execution_count": 3,
   "id": "908ee134",
   "metadata": {},
   "outputs": [
    {
     "name": "stdout",
     "output_type": "stream",
     "text": [
      "./df_test_onehot_enc.csv  ./df_train_onehot_enc.csv  ./test.csv  ./train.csv\r\n"
     ]
    }
   ],
   "source": [
    "! ls ./*.csv"
   ]
  },
  {
   "cell_type": "code",
   "execution_count": 4,
   "id": "1bf243fd",
   "metadata": {},
   "outputs": [],
   "source": [
    "df_train = pd.read_csv(\"df_train_onehot_enc.csv\")"
   ]
  },
  {
   "cell_type": "code",
   "execution_count": 5,
   "id": "c49fff82",
   "metadata": {},
   "outputs": [],
   "source": [
    "df_ttrain, df_tval = train_test_split(df_train, train_size=0.8,random_state=1)"
   ]
  },
  {
   "cell_type": "code",
   "execution_count": 6,
   "id": "a1e52fbf",
   "metadata": {},
   "outputs": [],
   "source": [
    "df_ttrain2 = df_ttrain.dropna()\n",
    "ttrain_X = df_ttrain2.drop(target, axis=1)\n",
    "ttrain_Y = df_ttrain2[target]\n",
    "sm = SMOTE(random_state=0)\n",
    "ttrain_x_resampled, ttrain_y_resampled = sm.fit_resample(ttrain_X, ttrain_Y)"
   ]
  },
  {
   "cell_type": "code",
   "execution_count": 12,
   "id": "87c27e2a",
   "metadata": {},
   "outputs": [],
   "source": [
    "import lightgbm as lgb"
   ]
  },
  {
   "cell_type": "code",
   "execution_count": 13,
   "id": "399cb58e",
   "metadata": {},
   "outputs": [],
   "source": [
    "from sklearn.metrics import f1_score"
   ]
  },
  {
   "cell_type": "code",
   "execution_count": 14,
   "id": "d62d33d6",
   "metadata": {},
   "outputs": [],
   "source": [
    "\n",
    "X_test = df_tval.drop(target, axis=1)\n",
    "Y_test = df_tval[target]"
   ]
  },
  {
   "cell_type": "code",
   "execution_count": 15,
   "id": "9e5ed130",
   "metadata": {},
   "outputs": [],
   "source": [
    "lgb_train = lgb.Dataset(ttrain_x_resampled, ttrain_y_resampled)\n",
    "lgb_test = lgb.Dataset(X_test, Y_test, reference=lgb_train)"
   ]
  },
  {
   "cell_type": "code",
   "execution_count": null,
   "id": "8d137acf",
   "metadata": {},
   "outputs": [],
   "source": []
  },
  {
   "cell_type": "code",
   "execution_count": 16,
   "id": "f51c6819",
   "metadata": {},
   "outputs": [],
   "source": [
    "params = {\n",
    "    'objective': 'binary',\n",
    "    'metric': 'binary_logloss',\n",
    "    'boosting': 'gbdt',\n",
    "    'num_leaves': 31,\n",
    "    'learning_rate': 0.05,\n",
    "    'feature_fraction': 0.9,\n",
    "    'verbose': -1\n",
    "}"
   ]
  },
  {
   "cell_type": "code",
   "execution_count": 17,
   "id": "7e4d57c6",
   "metadata": {},
   "outputs": [],
   "source": [
    "num_round = 1000\n",
    "bst = lgb.train(params, lgb_train, num_round)"
   ]
  },
  {
   "cell_type": "code",
   "execution_count": 18,
   "id": "892e672a",
   "metadata": {},
   "outputs": [],
   "source": [
    "y_pred = bst.predict(X_test)"
   ]
  },
  {
   "cell_type": "code",
   "execution_count": 20,
   "id": "17a73232",
   "metadata": {},
   "outputs": [],
   "source": [
    "import numpy as np\n",
    "y_pred_binary = np.where(y_pred > 0.5, 1, 0)"
   ]
  },
  {
   "cell_type": "code",
   "execution_count": 21,
   "id": "07c7ac1e",
   "metadata": {},
   "outputs": [
    {
     "name": "stdout",
     "output_type": "stream",
     "text": [
      "F1 Score: 0.33950120675784395\n"
     ]
    }
   ],
   "source": [
    "f1 = f1_score(Y_test, y_pred_binary)\n",
    "print(f\"F1 Score: {f1}\")"
   ]
  },
  {
   "cell_type": "code",
   "execution_count": 28,
   "id": "434377aa",
   "metadata": {},
   "outputs": [
    {
     "data": {
      "text/plain": [
       "(33728, 60306)"
      ]
     },
     "execution_count": 28,
     "metadata": {},
     "output_type": "execute_result"
    }
   ],
   "source": [
    "len(ttrain_X),len(ttrain_x_resampled)"
   ]
  },
  {
   "cell_type": "code",
   "execution_count": 22,
   "id": "1922459f",
   "metadata": {},
   "outputs": [],
   "source": [
    "lgb_train = lgb.Dataset(ttrain_X, ttrain_Y)\n",
    "lgb_test = lgb.Dataset(X_test, Y_test, reference=lgb_train)"
   ]
  },
  {
   "cell_type": "code",
   "execution_count": 23,
   "id": "c99c5ab5",
   "metadata": {},
   "outputs": [],
   "source": [
    "num_round = 1000\n",
    "bst = lgb.train(params, lgb_train, num_round)"
   ]
  },
  {
   "cell_type": "code",
   "execution_count": 24,
   "id": "3c571996",
   "metadata": {},
   "outputs": [],
   "source": [
    "y_pred2 = bst.predict(X_test)"
   ]
  },
  {
   "cell_type": "code",
   "execution_count": 29,
   "id": "07803661",
   "metadata": {},
   "outputs": [],
   "source": [
    "y_pred_binary2 = np.where(y_pred2 > 0.5, 1, 0)"
   ]
  },
  {
   "cell_type": "code",
   "execution_count": 30,
   "id": "4b3a3acc",
   "metadata": {},
   "outputs": [
    {
     "name": "stdout",
     "output_type": "stream",
     "text": [
      "F1 Score: 0.3099752679307502\n"
     ]
    }
   ],
   "source": [
    "f1 = f1_score(Y_test, y_pred_binary2)\n",
    "print(f\"F1 Score: {f1}\")"
   ]
  },
  {
   "cell_type": "code",
   "execution_count": null,
   "id": "bd9f9d81",
   "metadata": {},
   "outputs": [],
   "source": []
  }
 ],
 "metadata": {
  "kernelspec": {
   "display_name": "Python 3 (ipykernel)",
   "language": "python",
   "name": "python3"
  },
  "language_info": {
   "codemirror_mode": {
    "name": "ipython",
    "version": 3
   },
   "file_extension": ".py",
   "mimetype": "text/x-python",
   "name": "python",
   "nbconvert_exporter": "python",
   "pygments_lexer": "ipython3",
   "version": "3.10.9"
  }
 },
 "nbformat": 4,
 "nbformat_minor": 5
}
